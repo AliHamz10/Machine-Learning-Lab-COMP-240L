{
  "cells": [
    {
      "cell_type": "markdown",
      "metadata": {},
      "source": [
        "# Lab Practice 1: Single Variable Linear Regression\n",
        "\n",
        "**Department of Electrical and Computer Engineering**  \n",
        "**Pak-Austria Fachhochschule: Institute of Applied Sciences & Technology**  \n",
        "**Subject: Machine Learning**  \n",
        "**Subject Teacher: Dr. Abid Ali**  \n",
        "**Lab Supervisor: Miss. Sana Saleem**\n",
        "\n",
        "## Objective\n",
        "Implement linear regression with one variable using the Diabetes dataset to predict outcomes based on Glucose levels.\n",
        "\n",
        "## Dataset\n",
        "- **File**: diabetes.csv\n",
        "- **Features**: Pregnancies, Glucose, BloodPressure, SkinThickness, Insulin, BMI, DiabetesPedigreeFunction, Age, Outcome\n",
        "- **Target Variable**: Outcome (0 or 1)\n",
        "- **Selected Feature**: Glucose (single input variable)\n"
      ]
    },
    {
      "cell_type": "markdown",
      "metadata": {},
      "source": [
        "## Step 1: Import Required Libraries\n"
      ]
    },
    {
      "cell_type": "code",
      "execution_count": null,
      "metadata": {},
      "outputs": [],
      "source": [
        "# Import necessary libraries\n",
        "import pandas as pd\n",
        "import numpy as np\n",
        "import seaborn as sns\n",
        "import matplotlib.pyplot as plt\n",
        "from sklearn.model_selection import train_test_split\n",
        "from sklearn.linear_model import LinearRegression\n",
        "from sklearn.metrics import mean_squared_error, r2_score\n",
        "from scipy import stats\n",
        "\n",
        "print(\"Libraries imported successfully!\")\n"
      ]
    },
    {
      "cell_type": "markdown",
      "metadata": {},
      "source": [
        "## Step 2: Load and Explore the Dataset\n"
      ]
    },
    {
      "cell_type": "code",
      "execution_count": null,
      "metadata": {},
      "outputs": [],
      "source": [
        "# Load the Diabetes dataset\n",
        "url = \"diabetes.csv\"\n",
        "columns = ['Pregnancies', 'Glucose', 'BloodPressure', 'SkinThickness', \n",
        "           'Insulin', 'BMI', 'DiabetesPedigreeFunction', 'Age', 'Outcome']\n",
        "df = pd.read_csv(url, names=columns)\n",
        "\n",
        "# Display first few rows of the dataset\n",
        "print(\"First 5 rows of the dataset:\")\n",
        "print(df.head())\n",
        "\n",
        "# Basic statistics of the dataset\n",
        "print(\"\\nDataset Statistics:\")\n",
        "print(df.describe())\n",
        "\n",
        "# Check for missing values\n",
        "print(\"\\nMissing Values:\")\n",
        "print(df.isnull().sum())\n"
      ]
    },
    {
      "cell_type": "markdown",
      "metadata": {},
      "source": [
        "## Step 3: Data Preprocessing\n"
      ]
    },
    {
      "cell_type": "code",
      "execution_count": null,
      "metadata": {},
      "outputs": [],
      "source": [
        "# Convert all columns to numeric and handle missing values\n",
        "df = df.apply(pd.to_numeric, errors='coerce')\n",
        "df = df.dropna()\n",
        "\n",
        "print(f\"Dataset shape after cleaning: {df.shape}\")\n",
        "\n",
        "# Outlier analysis using Z-score for the selected feature 'Glucose'\n",
        "z_scores = np.abs(stats.zscore(df['Glucose']))\n",
        "print(\"\\nOutliers (Z > 3):\")\n",
        "outlier_indices = np.where(z_scores > 3)\n",
        "print(f\"Number of outliers: {len(outlier_indices[0])}\")\n",
        "print(f\"Outlier indices: {outlier_indices[0]}\")\n",
        "\n",
        "# Remove outliers based on Z-score for 'Glucose'\n",
        "df_clean = df[(z_scores < 3)]\n",
        "print(f\"\\nShape after removing outliers: {df_clean.shape}\")\n",
        "\n",
        "# Visualize Glucose distribution before and after outlier removal\n",
        "plt.figure(figsize=(12, 5))\n",
        "\n",
        "plt.subplot(1, 2, 1)\n",
        "plt.hist(df['Glucose'], bins=30, alpha=0.7, color='red', edgecolor='black')\n",
        "plt.title('Glucose Distribution (Before Outlier Removal)')\n",
        "plt.xlabel('Glucose Level')\n",
        "plt.ylabel('Frequency')\n",
        "\n",
        "plt.subplot(1, 2, 2)\n",
        "plt.hist(df_clean['Glucose'], bins=30, alpha=0.7, color='green', edgecolor='black')\n",
        "plt.title('Glucose Distribution (After Outlier Removal)')\n",
        "plt.xlabel('Glucose Level')\n",
        "plt.ylabel('Frequency')\n",
        "\n",
        "plt.tight_layout()\n",
        "plt.show()\n"
      ]
    },
    {
      "cell_type": "markdown",
      "metadata": {},
      "source": [
        "## Step 4: Prepare Data for Single Variable Linear Regression\n"
      ]
    },
    {
      "cell_type": "code",
      "execution_count": null,
      "metadata": {},
      "outputs": [],
      "source": [
        "# Splitting the dataset into the selected feature 'Glucose' and target variable 'Outcome'\n",
        "X = df_clean[['Glucose']]  # Single input feature\n",
        "y = df_clean['Outcome']    # Output variable\n",
        "\n",
        "print(f\"Feature shape: {X.shape}\")\n",
        "print(f\"Target shape: {y.shape}\")\n",
        "\n",
        "# Visualize the relationship between Glucose and Outcome\n",
        "plt.figure(figsize=(10, 6))\n",
        "plt.scatter(X['Glucose'], y, alpha=0.6, color='blue')\n",
        "plt.xlabel('Glucose Level')\n",
        "plt.ylabel('Diabetes Outcome (0=No, 1=Yes)')\n",
        "plt.title('Glucose Level vs Diabetes Outcome')\n",
        "plt.grid(True, alpha=0.3)\n",
        "plt.show()\n",
        "\n",
        "# Train-test split\n",
        "X_train, X_test, y_train, y_test = train_test_split(X, y, test_size=0.2, random_state=42)\n",
        "\n",
        "print(f\"\\nTraining set size: {X_train.shape[0]} samples\")\n",
        "print(f\"Test set size: {X_test.shape[0]} samples\")\n"
      ]
    },
    {
      "cell_type": "markdown",
      "metadata": {},
      "source": [
        "## Step 5: Train Linear Regression Model\n"
      ]
    },
    {
      "cell_type": "code",
      "execution_count": null,
      "metadata": {},
      "outputs": [],
      "source": [
        "# Train the Linear Regression model\n",
        "model = LinearRegression()\n",
        "model.fit(X_train, y_train)\n",
        "\n",
        "print(\"Model trained successfully!\")\n",
        "print(f\"Model coefficient (slope): {model.coef_[0]:.4f}\")\n",
        "print(f\"Model intercept: {model.intercept_:.4f}\")\n",
        "\n",
        "# Predict on the test data\n",
        "y_pred = model.predict(X_test)\n",
        "\n",
        "# Calculate metrics\n",
        "mse = mean_squared_error(y_test, y_pred)\n",
        "r2 = r2_score(y_test, y_pred)\n",
        "\n",
        "print(f\"\\nModel Performance:\")\n",
        "print(f\"Mean Squared Error: {mse:.4f}\")\n",
        "print(f\"R-squared: {r2:.4f}\")\n",
        "\n",
        "# Calculate additional metrics\n",
        "mae = np.mean(np.abs(y_test - y_pred))\n",
        "print(f\"Mean Absolute Error: {mae:.4f}\")\n"
      ]
    },
    {
      "cell_type": "markdown",
      "metadata": {},
      "source": [
        "## Step 6: Visualize Model Performance\n"
      ]
    },
    {
      "cell_type": "code",
      "execution_count": null,
      "metadata": {},
      "outputs": [],
      "source": [
        "# Visualizing model performance\n",
        "plt.figure(figsize=(15, 5))\n",
        "\n",
        "# Plot 1: Actual vs Predicted\n",
        "plt.subplot(1, 3, 1)\n",
        "plt.scatter(y_test, y_pred, color='purple', alpha=0.6)\n",
        "plt.plot([y_test.min(), y_test.max()], [y_test.min(), y_test.max()], color='red', linewidth=2)\n",
        "plt.xlabel(\"Actual Outcome\")\n",
        "plt.ylabel(\"Predicted Outcome\")\n",
        "plt.title(\"Linear Regression: Actual vs Predicted\")\n",
        "plt.grid(True, alpha=0.3)\n",
        "\n",
        "# Plot 2: Residuals distribution\n",
        "plt.subplot(1, 3, 2)\n",
        "residuals = y_test - y_pred\n",
        "sns.histplot(residuals, bins=20, kde=True, color='orange')\n",
        "plt.title('Residuals Distribution')\n",
        "plt.xlabel('Residuals')\n",
        "plt.ylabel('Frequency')\n",
        "plt.grid(True, alpha=0.3)\n",
        "\n",
        "# Plot 3: Regression line on scatter plot\n",
        "plt.subplot(1, 3, 3)\n",
        "plt.scatter(X_test['Glucose'], y_test, color='blue', alpha=0.6, label='Actual')\n",
        "plt.scatter(X_test['Glucose'], y_pred, color='red', alpha=0.6, label='Predicted')\n",
        "\n",
        "# Plot regression line\n",
        "X_line = np.linspace(X_test['Glucose'].min(), X_test['Glucose'].max(), 100).reshape(-1, 1)\n",
        "y_line = model.predict(X_line)\n",
        "plt.plot(X_line, y_line, color='green', linewidth=2, label='Regression Line')\n",
        "\n",
        "plt.xlabel('Glucose Level')\n",
        "plt.ylabel('Diabetes Outcome')\n",
        "plt.title('Regression Line Visualization')\n",
        "plt.legend()\n",
        "plt.grid(True, alpha=0.3)\n",
        "\n",
        "plt.tight_layout()\n",
        "plt.show()\n"
      ]
    },
    {
      "cell_type": "markdown",
      "metadata": {},
      "source": [
        "## Step 7: Model Interpretation and Conclusions\n"
      ]
    },
    {
      "cell_type": "code",
      "execution_count": null,
      "metadata": {},
      "outputs": [],
      "source": [
        "# Model interpretation\n",
        "print(\"SINGLE VARIABLE LINEAR REGRESSION ANALYSIS\")\n",
        "print(\"=\" * 50)\n",
        "print(f\"Model Equation: Outcome = {model.intercept_:.4f} + {model.coef_[0]:.4f} * Glucose\")\n",
        "print(f\"\\nInterpretation:\")\n",
        "print(f\"• For every 1 unit increase in Glucose level, the predicted outcome increases by {model.coef_[0]:.4f}\")\n",
        "print(f\"• When Glucose level is 0, the predicted outcome is {model.intercept_:.4f}\")\n",
        "print(f\"• R² = {r2:.4f} means the model explains {r2*100:.2f}% of the variance in the outcome\")\n",
        "print(f\"• Mean Squared Error: {mse:.4f}\")\n",
        "\n",
        "# Sample predictions\n",
        "print(f\"\\nSample Predictions:\")\n",
        "sample_glucose = [100, 150, 200]\n",
        "for glucose in sample_glucose:\n",
        "    prediction = model.predict([[glucose]])[0]\n",
        "    print(f\"Glucose Level: {glucose} → Predicted Outcome: {prediction:.4f}\")\n",
        "\n",
        "print(f\"\\nModel Performance Summary:\")\n",
        "print(f\"• The model shows {'good' if r2 > 0.5 else 'moderate' if r2 > 0.3 else 'poor'} performance\")\n",
        "print(f\"• {'High' if mse < 0.1 else 'Moderate' if mse < 0.2 else 'High'} prediction error\")\n",
        "print(f\"• The relationship between Glucose and Diabetes outcome is {'strong' if abs(model.coef_[0]) > 0.01 else 'weak'}\")\n"
      ]
    }
  ],
  "metadata": {
    "language_info": {
      "name": "python"
    }
  },
  "nbformat": 4,
  "nbformat_minor": 2
}
