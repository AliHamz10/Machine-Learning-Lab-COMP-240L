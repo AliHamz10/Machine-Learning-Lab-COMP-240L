{
  "cells": [
    {
      "cell_type": "markdown",
      "metadata": {},
      "source": [
        "# Lab 02: Linear Regression Analysis on Insurance Dataset\n",
        "\n",
        "**Department Of Electrical & Computer Engineering**  \n",
        "**Machine Learning Lab**  \n",
        "**Lab Coordinator: Ms. Sana Saleem**  \n",
        "**Course Instructor: Dr. Abid Ali**  \n",
        "**Program: BS(AI) -F23, Semester: 5th**  \n",
        "**Deadline: 13th September 2025**\n",
        "\n",
        "## Objective\n",
        "Implement a linear regression model on an insurance dataset to predict medical charges based on various features. Analyze the dataset, implement the model, evaluate its performance, and visualize the results.\n",
        "\n",
        "## Dataset Information\n",
        "- **Dataset**: Insurance.csv\n",
        "- **Target Variable**: charges (medical insurance charges)\n",
        "- **Features**: age, gender, bmi, children, smoker, region\n",
        "- **Total Records**: 1,338\n"
      ]
    },
    {
      "cell_type": "markdown",
      "metadata": {},
      "source": [
        "## 1. Import Required Libraries\n"
      ]
    },
    {
      "cell_type": "code",
      "execution_count": null,
      "metadata": {},
      "outputs": [],
      "source": [
        "import pandas as pd\n",
        "import numpy as np\n",
        "import matplotlib.pyplot as plt\n",
        "import seaborn as sns\n",
        "from sklearn.model_selection import train_test_split\n",
        "from sklearn.linear_model import LinearRegression\n",
        "from sklearn.preprocessing import LabelEncoder, StandardScaler\n",
        "from sklearn.metrics import mean_squared_error, r2_score, mean_absolute_error\n",
        "import warnings\n",
        "warnings.filterwarnings('ignore')\n",
        "\n",
        "# Set style for better plots\n",
        "plt.style.use('seaborn-v0_8')\n",
        "sns.set_palette(\"husl\")\n",
        "\n",
        "print(\"Libraries imported successfully!\")\n"
      ]
    },
    {
      "cell_type": "markdown",
      "metadata": {},
      "source": [
        "## 2. Load and Explore the Dataset\n"
      ]
    },
    {
      "cell_type": "code",
      "execution_count": null,
      "metadata": {},
      "outputs": [],
      "source": [
        "# Load the dataset\n",
        "df = pd.read_csv('insurance.csv')\n",
        "\n",
        "print(\"Dataset Shape:\", df.shape)\n",
        "print(\"\\nFirst 5 rows:\")\n",
        "df.head()\n"
      ]
    },
    {
      "cell_type": "code",
      "execution_count": null,
      "metadata": {},
      "outputs": [],
      "source": [
        "# Basic information about the dataset\n",
        "print(\"Dataset Information:\")\n",
        "print(\"=\" * 50)\n",
        "df.info()\n",
        "\n",
        "print(\"\\n\\nDataset Description:\")\n",
        "print(\"=\" * 50)\n",
        "df.describe()\n"
      ]
    },
    {
      "cell_type": "code",
      "execution_count": null,
      "metadata": {},
      "outputs": [],
      "source": [
        "# Check for missing values\n",
        "print(\"Missing Values:\")\n",
        "print(\"=\" * 30)\n",
        "missing_values = df.isnull().sum()\n",
        "print(missing_values)\n",
        "\n",
        "print(\"\\nMissing Values Percentage:\")\n",
        "print(\"=\" * 30)\n",
        "missing_percentage = (missing_values / len(df)) * 100\n",
        "print(missing_percentage)\n"
      ]
    },
    {
      "cell_type": "markdown",
      "metadata": {},
      "source": [
        "## 3. Data Visualization and Analysis\n"
      ]
    },
    {
      "cell_type": "code",
      "execution_count": null,
      "metadata": {},
      "outputs": [],
      "source": [
        "# Distribution of target variable (charges)\n",
        "plt.figure(figsize=(12, 5))\n",
        "\n",
        "plt.subplot(1, 2, 1)\n",
        "plt.hist(df['charges'], bins=30, alpha=0.7, color='skyblue', edgecolor='black')\n",
        "plt.title('Distribution of Medical Charges')\n",
        "plt.xlabel('Charges ($)')\n",
        "plt.ylabel('Frequency')\n",
        "\n",
        "plt.subplot(1, 2, 2)\n",
        "plt.hist(np.log(df['charges']), bins=30, alpha=0.7, color='lightcoral', edgecolor='black')\n",
        "plt.title('Distribution of Log-Transformed Charges')\n",
        "plt.xlabel('Log(Charges)')\n",
        "plt.ylabel('Frequency')\n",
        "\n",
        "plt.tight_layout()\n",
        "plt.show()\n",
        "\n",
        "print(f\"Charges Statistics:\")\n",
        "print(f\"Mean: ${df['charges'].mean():.2f}\")\n",
        "print(f\"Median: ${df['charges'].median():.2f}\")\n",
        "print(f\"Standard Deviation: ${df['charges'].std():.2f}\")\n",
        "print(f\"Min: ${df['charges'].min():.2f}\")\n",
        "print(f\"Max: ${df['charges'].max():.2f}\")\n"
      ]
    },
    {
      "cell_type": "code",
      "execution_count": null,
      "metadata": {},
      "outputs": [],
      "source": [
        "# Categorical variables analysis\n",
        "fig, axes = plt.subplots(2, 2, figsize=(15, 10))\n",
        "\n",
        "# Gender distribution\n",
        "df['gender'].value_counts().plot(kind='bar', ax=axes[0,0], color='lightblue')\n",
        "axes[0,0].set_title('Gender Distribution')\n",
        "axes[0,0].set_xlabel('Gender')\n",
        "axes[0,0].set_ylabel('Count')\n",
        "\n",
        "# Smoker distribution\n",
        "df['smoker'].value_counts().plot(kind='bar', ax=axes[0,1], color='lightgreen')\n",
        "axes[0,1].set_title('Smoker Distribution')\n",
        "axes[0,1].set_xlabel('Smoker')\n",
        "axes[0,1].set_ylabel('Count')\n",
        "\n",
        "# Region distribution\n",
        "df['region'].value_counts().plot(kind='bar', ax=axes[1,0], color='lightcoral')\n",
        "axes[1,0].set_title('Region Distribution')\n",
        "axes[1,0].set_xlabel('Region')\n",
        "axes[1,0].set_ylabel('Count')\n",
        "axes[1,0].tick_params(axis='x', rotation=45)\n",
        "\n",
        "# Children distribution\n",
        "df['children'].value_counts().sort_index().plot(kind='bar', ax=axes[1,1], color='lightyellow')\n",
        "axes[1,1].set_title('Children Distribution')\n",
        "axes[1,1].set_xlabel('Number of Children')\n",
        "axes[1,1].set_ylabel('Count')\n",
        "\n",
        "plt.tight_layout()\n",
        "plt.show()\n"
      ]
    },
    {
      "cell_type": "code",
      "execution_count": null,
      "metadata": {},
      "outputs": [],
      "source": [
        "# Numerical variables analysis\n",
        "fig, axes = plt.subplots(2, 2, figsize=(15, 10))\n",
        "\n",
        "# Age distribution\n",
        "axes[0,0].hist(df['age'], bins=20, alpha=0.7, color='skyblue', edgecolor='black')\n",
        "axes[0,0].set_title('Age Distribution')\n",
        "axes[0,0].set_xlabel('Age')\n",
        "axes[0,0].set_ylabel('Frequency')\n",
        "\n",
        "# BMI distribution\n",
        "axes[0,1].hist(df['bmi'], bins=20, alpha=0.7, color='lightgreen', edgecolor='black')\n",
        "axes[0,1].set_title('BMI Distribution')\n",
        "axes[0,1].set_xlabel('BMI')\n",
        "axes[0,1].set_ylabel('Frequency')\n",
        "\n",
        "# Age vs Charges\n",
        "axes[1,0].scatter(df['age'], df['charges'], alpha=0.6, color='coral')\n",
        "axes[1,0].set_title('Age vs Charges')\n",
        "axes[1,0].set_xlabel('Age')\n",
        "axes[1,0].set_ylabel('Charges ($)')\n",
        "\n",
        "# BMI vs Charges\n",
        "axes[1,1].scatter(df['bmi'], df['charges'], alpha=0.6, color='purple')\n",
        "axes[1,1].set_title('BMI vs Charges')\n",
        "axes[1,1].set_xlabel('BMI')\n",
        "axes[1,1].set_ylabel('Charges ($)')\n",
        "\n",
        "plt.tight_layout()\n",
        "plt.show()\n"
      ]
    },
    {
      "cell_type": "code",
      "execution_count": null,
      "metadata": {},
      "outputs": [],
      "source": [
        "# Correlation analysis\n",
        "# Create a copy for correlation analysis\n",
        "df_corr = df.copy()\n",
        "\n",
        "# Encode categorical variables for correlation\n",
        "le_gender = LabelEncoder()\n",
        "le_smoker = LabelEncoder()\n",
        "le_region = LabelEncoder()\n",
        "\n",
        "df_corr['gender_encoded'] = le_gender.fit_transform(df_corr['gender'])\n",
        "df_corr['smoker_encoded'] = le_smoker.fit_transform(df_corr['smoker'])\n",
        "df_corr['region_encoded'] = le_region.fit_transform(df_corr['region'])\n",
        "\n",
        "# Select numerical columns for correlation\n",
        "numerical_cols = ['age', 'bmi', 'children', 'gender_encoded', 'smoker_encoded', 'region_encoded', 'charges']\n",
        "correlation_matrix = df_corr[numerical_cols].corr()\n",
        "\n",
        "plt.figure(figsize=(10, 8))\n",
        "sns.heatmap(correlation_matrix, annot=True, cmap='coolwarm', center=0, \n",
        "            square=True, fmt='.2f')\n",
        "plt.title('Correlation Matrix of All Variables')\n",
        "plt.tight_layout()\n",
        "plt.show()\n",
        "\n",
        "print(\"\\nCorrelation with Charges (Target Variable):\")\n",
        "print(\"=\" * 50)\n",
        "charges_corr = correlation_matrix['charges'].sort_values(ascending=False)\n",
        "print(charges_corr)\n"
      ]
    },
    {
      "cell_type": "markdown",
      "metadata": {},
      "source": [
        "## 4. Data Preprocessing\n"
      ]
    },
    {
      "cell_type": "code",
      "execution_count": null,
      "metadata": {},
      "outputs": [],
      "source": [
        "# Create a copy for preprocessing\n",
        "df_processed = df.copy()\n",
        "\n",
        "# Encode categorical variables\n",
        "le_gender = LabelEncoder()\n",
        "le_smoker = LabelEncoder()\n",
        "le_region = LabelEncoder()\n",
        "\n",
        "df_processed['gender'] = le_gender.fit_transform(df_processed['gender'])\n",
        "df_processed['smoker'] = le_smoker.fit_transform(df_processed['smoker'])\n",
        "df_processed['region'] = le_region.fit_transform(df_processed['region'])\n",
        "\n",
        "print(\"Categorical variables encoded successfully!\")\n",
        "print(\"\\nEncoded values:\")\n",
        "print(f\"Gender: {dict(zip(le_gender.classes_, le_gender.transform(le_gender.classes_)))}\")\n",
        "print(f\"Smoker: {dict(zip(le_smoker.classes_, le_smoker.transform(le_smoker.classes_)))}\")\n",
        "print(f\"Region: {dict(zip(le_region.classes_, le_region.transform(le_region.classes_)))}\")\n",
        "\n",
        "print(\"\\nFirst 5 rows after encoding:\")\n",
        "df_processed.head()\n"
      ]
    },
    {
      "cell_type": "code",
      "execution_count": null,
      "metadata": {},
      "outputs": [],
      "source": [
        "# Prepare features and target\n",
        "X = df_processed.drop('charges', axis=1)\n",
        "y = df_processed['charges']\n",
        "\n",
        "print(\"Feature matrix shape:\", X.shape)\n",
        "print(\"Target vector shape:\", y.shape)\n",
        "print(\"\\nFeature columns:\", list(X.columns))\n",
        "\n",
        "# Split the data\n",
        "X_train, X_test, y_train, y_test = train_test_split(X, y, test_size=0.2, random_state=42)\n",
        "\n",
        "print(f\"\\nTraining set size: {X_train.shape[0]} samples\")\n",
        "print(f\"Test set size: {X_test.shape[0]} samples\")\n",
        "print(f\"Training set features: {X_train.shape[1]} features\")\n"
      ]
    },
    {
      "cell_type": "code",
      "execution_count": null,
      "metadata": {},
      "outputs": [],
      "source": [
        "# Feature scaling (optional for linear regression but good practice)\n",
        "scaler = StandardScaler()\n",
        "X_train_scaled = scaler.fit_transform(X_train)\n",
        "X_test_scaled = scaler.transform(X_test)\n",
        "\n",
        "print(\"Features scaled successfully!\")\n",
        "print(f\"Scaled training set shape: {X_train_scaled.shape}\")\n",
        "print(f\"Scaled test set shape: {X_test_scaled.shape}\")\n"
      ]
    },
    {
      "cell_type": "markdown",
      "metadata": {},
      "source": [
        "## 5. Linear Regression Model Implementation\n"
      ]
    },
    {
      "cell_type": "code",
      "execution_count": null,
      "metadata": {},
      "outputs": [],
      "source": [
        "# Create and train the linear regression model\n",
        "lr_model = LinearRegression()\n",
        "lr_model.fit(X_train_scaled, y_train)\n",
        "\n",
        "print(\"Linear Regression model trained successfully!\")\n",
        "print(f\"Model coefficients: {lr_model.coef_}\")\n",
        "print(f\"Model intercept: {lr_model.intercept_:.2f}\")\n",
        "\n",
        "# Display feature importance\n",
        "feature_importance = pd.DataFrame({\n",
        "    'Feature': X.columns,\n",
        "    'Coefficient': lr_model.coef_\n",
        "}).sort_values('Coefficient', key=abs, ascending=False)\n",
        "\n",
        "print(\"\\nFeature Importance (by coefficient magnitude):\")\n",
        "print(\"=\" * 50)\n",
        "print(feature_importance)\n"
      ]
    },
    {
      "cell_type": "code",
      "execution_count": null,
      "metadata": {},
      "outputs": [],
      "source": [
        "# Make predictions\n",
        "y_train_pred = lr_model.predict(X_train_scaled)\n",
        "y_test_pred = lr_model.predict(X_test_scaled)\n",
        "\n",
        "print(\"Predictions made successfully!\")\n",
        "print(f\"Training predictions shape: {y_train_pred.shape}\")\n",
        "print(f\"Test predictions shape: {y_test_pred.shape}\")\n"
      ]
    },
    {
      "cell_type": "markdown",
      "metadata": {},
      "source": [
        "## 6. Model Evaluation\n"
      ]
    },
    {
      "cell_type": "code",
      "execution_count": null,
      "metadata": {},
      "outputs": [],
      "source": [
        "# Calculate evaluation metrics\n",
        "def calculate_metrics(y_true, y_pred, dataset_name):\n",
        "    mse = mean_squared_error(y_true, y_pred)\n",
        "    rmse = np.sqrt(mse)\n",
        "    mae = mean_absolute_error(y_true, y_pred)\n",
        "    r2 = r2_score(y_true, y_pred)\n",
        "    \n",
        "    print(f\"\\n{dataset_name} Metrics:\")\n",
        "    print(\"=\" * 30)\n",
        "    print(f\"Mean Squared Error (MSE): ${mse:.2f}\")\n",
        "    print(f\"Root Mean Squared Error (RMSE): ${rmse:.2f}\")\n",
        "    print(f\"Mean Absolute Error (MAE): ${mae:.2f}\")\n",
        "    print(f\"R-squared (R²): {r2:.4f}\")\n",
        "    \n",
        "    return mse, rmse, mae, r2\n",
        "\n",
        "# Evaluate on training set\n",
        "train_mse, train_rmse, train_mae, train_r2 = calculate_metrics(y_train, y_train_pred, \"Training\")\n",
        "\n",
        "# Evaluate on test set\n",
        "test_mse, test_rmse, test_mae, test_r2 = calculate_metrics(y_test, y_test_pred, \"Test\")\n",
        "\n",
        "# Model performance summary\n",
        "print(\"\\n\\nModel Performance Summary:\")\n",
        "print(\"=\" * 50)\n",
        "print(f\"Training R²: {train_r2:.4f}\")\n",
        "print(f\"Test R²: {test_r2:.4f}\")\n",
        "print(f\"Overfitting Check (Train R² - Test R²): {train_r2 - test_r2:.4f}\")\n"
      ]
    },
    {
      "cell_type": "markdown",
      "metadata": {},
      "source": [
        "## 7. Visualization of Results\n"
      ]
    },
    {
      "cell_type": "code",
      "execution_count": null,
      "metadata": {},
      "outputs": [],
      "source": [
        "# Actual vs Predicted scatter plots\n",
        "fig, axes = plt.subplots(1, 2, figsize=(15, 6))\n",
        "\n",
        "# Training set\n",
        "axes[0].scatter(y_train, y_train_pred, alpha=0.6, color='blue')\n",
        "axes[0].plot([y_train.min(), y_train.max()], [y_train.min(), y_train.max()], 'r--', lw=2)\n",
        "axes[0].set_xlabel('Actual Charges ($)')\n",
        "axes[0].set_ylabel('Predicted Charges ($)')\n",
        "axes[0].set_title(f'Training Set: Actual vs Predicted\\nR² = {train_r2:.4f}')\n",
        "axes[0].grid(True, alpha=0.3)\n",
        "\n",
        "# Test set\n",
        "axes[1].scatter(y_test, y_test_pred, alpha=0.6, color='green')\n",
        "axes[1].plot([y_test.min(), y_test.max()], [y_test.min(), y_test.max()], 'r--', lw=2)\n",
        "axes[1].set_xlabel('Actual Charges ($)')\n",
        "axes[1].set_ylabel('Predicted Charges ($)')\n",
        "axes[1].set_title(f'Test Set: Actual vs Predicted\\nR² = {test_r2:.4f}')\n",
        "axes[1].grid(True, alpha=0.3)\n",
        "\n",
        "plt.tight_layout()\n",
        "plt.show()\n"
      ]
    },
    {
      "cell_type": "code",
      "execution_count": null,
      "metadata": {},
      "outputs": [],
      "source": [
        "# Residual plots\n",
        "fig, axes = plt.subplots(1, 2, figsize=(15, 6))\n",
        "\n",
        "# Training set residuals\n",
        "train_residuals = y_train - y_train_pred\n",
        "axes[0].scatter(y_train_pred, train_residuals, alpha=0.6, color='blue')\n",
        "axes[0].axhline(y=0, color='r', linestyle='--')\n",
        "axes[0].set_xlabel('Predicted Charges ($)')\n",
        "axes[0].set_ylabel('Residuals ($)')\n",
        "axes[0].set_title('Training Set: Residual Plot')\n",
        "axes[0].grid(True, alpha=0.3)\n",
        "\n",
        "# Test set residuals\n",
        "test_residuals = y_test - y_test_pred\n",
        "axes[1].scatter(y_test_pred, test_residuals, alpha=0.6, color='green')\n",
        "axes[1].axhline(y=0, color='r', linestyle='--')\n",
        "axes[1].set_xlabel('Predicted Charges ($)')\n",
        "axes[1].set_ylabel('Residuals ($)')\n",
        "axes[1].set_title('Test Set: Residual Plot')\n",
        "axes[1].grid(True, alpha=0.3)\n",
        "\n",
        "plt.tight_layout()\n",
        "plt.show()\n"
      ]
    },
    {
      "cell_type": "code",
      "execution_count": null,
      "metadata": {},
      "outputs": [],
      "source": [
        "# Feature importance visualization\n",
        "plt.figure(figsize=(10, 6))\n",
        "feature_importance_sorted = feature_importance.sort_values('Coefficient', key=abs, ascending=True)\n",
        "colors = ['red' if x < 0 else 'blue' for x in feature_importance_sorted['Coefficient']]\n",
        "\n",
        "bars = plt.barh(feature_importance_sorted['Feature'], feature_importance_sorted['Coefficient'], color=colors, alpha=0.7)\n",
        "plt.xlabel('Coefficient Value')\n",
        "plt.title('Feature Importance in Linear Regression Model')\n",
        "plt.grid(True, alpha=0.3)\n",
        "\n",
        "# Add value labels on bars\n",
        "for i, bar in enumerate(bars):\n",
        "    width = bar.get_width()\n",
        "    plt.text(width + (0.1 if width >= 0 else -0.1), bar.get_y() + bar.get_height()/2, \n",
        "             f'{width:.2f}', ha='left' if width >= 0 else 'right', va='center')\n",
        "\n",
        "plt.tight_layout()\n",
        "plt.show()\n"
      ]
    },
    {
      "cell_type": "markdown",
      "metadata": {},
      "source": [
        "## 8. Model Interpretation and Analysis\n"
      ]
    },
    {
      "cell_type": "code",
      "execution_count": null,
      "metadata": {},
      "outputs": [],
      "source": [
        "# Detailed model interpretation\n",
        "print(\"Linear Regression Model Interpretation:\")\n",
        "print(\"=\" * 50)\n",
        "print(f\"Model Equation: charges = {lr_model.intercept_:.2f}\")\n",
        "\n",
        "for i, (feature, coef) in enumerate(zip(X.columns, lr_model.coef_)):\n",
        "    print(f\" + ({coef:.2f}) * {feature}\")\n",
        "\n",
        "print(\"\\n\\nFeature Impact Analysis:\")\n",
        "print(\"=\" * 50)\n",
        "for feature, coef in zip(X.columns, lr_model.coef_):\n",
        "    impact = \"increases\" if coef > 0 else \"decreases\"\n",
        "    print(f\"• {feature}: {impact} charges by ${abs(coef):.2f} per unit increase\")\n",
        "\n",
        "print(\"\\n\\nModel Performance Analysis:\")\n",
        "print(\"=\" * 50)\n",
        "print(f\"• The model explains {test_r2*100:.2f}% of the variance in medical charges\")\n",
        "print(f\"• Average prediction error: ${test_rmse:.2f}\")\n",
        "print(f\"• Mean absolute error: ${test_mae:.2f}\")\n",
        "\n",
        "if train_r2 - test_r2 > 0.1:\n",
        "    print(\"• Warning: Model may be overfitting (large difference between train and test R²)\")\n",
        "else:\n",
        "    print(\"• Model shows good generalization (similar train and test performance)\")\n"
      ]
    },
    {
      "cell_type": "markdown",
      "metadata": {},
      "source": [
        "## 9. Sample Predictions\n"
      ]
    },
    {
      "cell_type": "code",
      "execution_count": null,
      "metadata": {},
      "outputs": [],
      "source": [
        "# Sample predictions on test set\n",
        "sample_indices = np.random.choice(len(X_test), 10, replace=False)\n",
        "sample_X = X_test.iloc[sample_indices]\n",
        "sample_y_actual = y_test.iloc[sample_indices]\n",
        "sample_y_pred = y_test_pred[sample_indices]\n",
        "\n",
        "print(\"Sample Predictions on Test Set:\")\n",
        "print(\"=\" * 60)\n",
        "print(f\"{'Index':<6} {'Actual':<12} {'Predicted':<12} {'Error':<12} {'Error %':<10}\")\n",
        "print(\"-\" * 60)\n",
        "\n",
        "for i, (idx, actual, pred) in enumerate(zip(sample_indices, sample_y_actual, sample_y_pred)):\n",
        "    error = actual - pred\n",
        "    error_pct = (error / actual) * 100\n",
        "    print(f\"{idx:<6} ${actual:<11.2f} ${pred:<11.2f} ${error:<11.2f} {error_pct:<9.2f}%\")\n",
        "\n",
        "print(\"\\n\\nFeature Values for Sample Predictions:\")\n",
        "print(\"=\" * 60)\n",
        "sample_X_display = sample_X.copy()\n",
        "# Decode categorical variables for display\n",
        "sample_X_display['gender'] = le_gender.inverse_transform(sample_X_display['gender'])\n",
        "sample_X_display['smoker'] = le_smoker.inverse_transform(sample_X_display['smoker'])\n",
        "sample_X_display['region'] = le_region.inverse_transform(sample_X_display['region'])\n",
        "print(sample_X_display.head(10))\n"
      ]
    },
    {
      "cell_type": "markdown",
      "metadata": {},
      "source": [
        "## 10. Conclusions and Insights\n"
      ]
    },
    {
      "cell_type": "code",
      "execution_count": null,
      "metadata": {},
      "outputs": [],
      "source": [
        "print(\"LAB 02 ANALYSIS CONCLUSIONS\")\n",
        "print(\"=\" * 50)\n",
        "\n",
        "print(\"\\n1. DATASET OVERVIEW:\")\n",
        "print(f\"   • Total records: {len(df)} insurance claims\")\n",
        "print(f\"   • Features: {len(X.columns)} (age, gender, bmi, children, smoker, region)\")\n",
        "print(f\"   • Target: Medical charges (mean: ${df['charges'].mean():.2f})\")\n",
        "print(f\"   • No missing values found\")\n",
        "\n",
        "print(\"\\n2. KEY FINDINGS:\")\n",
        "print(f\"   • Smoking status has the strongest impact on charges\")\n",
        "print(f\"   • Age and BMI are significant predictors\")\n",
        "print(f\"   • Gender and region have smaller but measurable effects\")\n",
        "print(f\"   • Number of children has minimal impact\")\n",
        "\n",
        "print(\"\\n3. MODEL PERFORMANCE:\")\n",
        "print(f\"   • R² Score: {test_r2:.4f} ({test_r2*100:.2f}% variance explained)\")\n",
        "print(f\"   • RMSE: ${test_rmse:.2f} (average prediction error)\")\n",
        "print(f\"   • MAE: ${test_mae:.2f} (mean absolute error)\")\n",
        "\n",
        "print(\"\\n4. BUSINESS INSIGHTS:\")\n",
        "print(f\"   • Smokers pay significantly more for insurance\")\n",
        "print(f\"   • Older individuals and those with higher BMI have higher charges\")\n",
        "print(f\"   • The model can help predict insurance costs for new customers\")\n",
        "print(f\"   • Risk assessment can be improved using these factors\")\n",
        "\n",
        "print(\"\\n5. MODEL LIMITATIONS:\")\n",
        "print(f\"   • Linear regression assumes linear relationships\")\n",
        "print(f\"   • May not capture complex interactions between features\")\n",
        "print(f\"   • R² of {test_r2:.4f} means {100-test_r2*100:.2f}% variance unexplained\")\n",
        "print(f\"   • Could benefit from feature engineering or non-linear models\")\n",
        "\n",
        "print(\"\\n6. RECOMMENDATIONS:\")\n",
        "print(f\"   • Consider polynomial features for non-linear relationships\")\n",
        "print(f\"   • Try other algorithms (Random Forest, XGBoost) for comparison\")\n",
        "print(f\"   • Collect more data to improve model accuracy\")\n",
        "print(f\"   • Feature engineering could improve performance\")\n",
        "\n",
        "print(\"\\n\" + \"=\" * 50)\n",
        "print(\"LAB 02 ANALYSIS COMPLETED SUCCESSFULLY!\")\n",
        "print(\"=\" * 50)\n"
      ]
    }
  ],
  "metadata": {
    "language_info": {
      "name": "python"
    }
  },
  "nbformat": 4,
  "nbformat_minor": 2
}
